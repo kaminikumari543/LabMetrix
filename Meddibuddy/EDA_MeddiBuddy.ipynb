{
  "nbformat": 4,
  "nbformat_minor": 0,
  "metadata": {
    "colab": {
      "private_outputs": true,
      "provenance": [],
      "collapsed_sections": [
        "vncDsAP0Gaoa",
        "w6K7xa23Elo4",
        "yQaldy8SH6Dl",
        "PH-0ReGfmX4f",
        "dauF4eBmngu3",
        "bKJF3rekwFvQ",
        "MSa1f5Uengrz",
        "YJ55k-q6phqO",
        "gCFgpxoyphqP",
        "OVtJsKN_phqQ",
        "lssrdh5qphqQ",
        "U2RJ9gkRphqQ",
        "1M8mcRywphqQ",
        "tgIPom80phqQ",
        "JMzcOPDDphqR",
        "x-EpHcCOp1ci",
        "X_VqEhTip1ck",
        "8zGJKyg5p1ck",
        "PVzmfK_Ep1ck",
        "n3dbpmDWp1ck",
        "ylSl6qgtp1ck",
        "ZWILFDl5p1ck",
        "M7G43BXep1ck",
        "Ag9LCva-p1cl",
        "E6MkPsBcp1cl",
        "2cELzS2fp1cl",
        "3MPXvC8up1cl",
        "NC_X3p0fY2L0",
        "UV0SzAkaZNRQ",
        "YPEH6qLeZNRQ",
        "q29F0dvdveiT",
        "EXh0U9oCveiU",
        "22aHeOlLveiV",
        "JcMwzZxoAimU",
        "8G2x9gOozGDZ",
        "gIfDvo9L0UH2"
      ]
    },
    "kernelspec": {
      "name": "python3",
      "display_name": "Python 3"
    },
    "language_info": {
      "name": "python"
    }
  },
  "cells": [
    {
      "cell_type": "markdown",
      "source": [
        "# **Project Name**    - EDA Meddibuddy\n",
        "\n",
        "\n"
      ],
      "metadata": {
        "id": "vncDsAP0Gaoa"
      }
    },
    {
      "cell_type": "markdown",
      "source": [
        "##### **Project Type**    - EDA/Regression/Classification/Unsupervised\n",
        "##### **Contribution**    - Individual/Team\n",
        "##### **Team Member 1 -**\n",
        "##### **Team Member 2 -**\n",
        "##### **Team Member 3 -**\n",
        "##### **Team Member 4 -**"
      ],
      "metadata": {
        "id": "beRrZCGUAJYm"
      }
    },
    {
      "cell_type": "markdown",
      "source": [
        "# **Project Summary -**"
      ],
      "metadata": {
        "id": "FJNUwmbgGyua"
      }
    },
    {
      "cell_type": "markdown",
      "source": [
        "Write the summary here within 500-600 words.\n",
        "\n",
        "This project focused on the analysis of Medibuddy insurance data, which includes customer demographics, lifestyle attributes, and insurance charges. The primary goal was to derive actionable insights to help the company improve policy planning, risk assessment, and customer segmentation.\n",
        "\n",
        "The dataset comprised two files: one containing personal details (age, sex, BMI, smoker status, region, and number of children) and the other containing policy costs (insurance charges). After merging the two datasets on the common key (Policy no.), the resulting dataset provided a comprehensive view of each customer’s profile alongside the insurance charges incurred.\n",
        "\n",
        "We started by cleaning the data: removing missing values, handling duplicates, and ensuring correct data types. Outlier detection was performed using Z-score methods for numerical variables such as age, bmi, and charges. These outliers, while extreme, provided important insights into high-risk or high-cost individuals.\n",
        "\n",
        "The analysis explored the influence of several factors on insurance charges:\n",
        "\n",
        "Gender: A boxplot analysis indicated that there is no significant difference in charges based on gender. Therefore, gender should not be a constraint when extending policies.\n",
        "\n",
        "Average Cost: The average insurance cost per policy was approximately ₹13,000–₹15,000, providing a baseline for policy pricing and forecasting.\n",
        "\n",
        "Geographic Region: Charges varied slightly by region. Certain regions showed higher median charges, potentially due to lifestyle or healthcare costs. This suggests that geographic segmentation of policies could be considered to optimize pricing strategies.\n",
        "\n",
        "Dependents (Children): The number of children showed a weak correlation with charges. Households with more dependents did not necessarily incur higher costs, indicating that this variable may not significantly impact individual policy pricing.\n",
        "\n",
        "BMI (Body Mass Index): A strong relationship was observed between BMI and insurance charges, especially when segmented by smoker status. Higher BMI often correlated with higher charges, suggesting that BMI can be a useful indicator for estimating policy risk. This opens up opportunities to offer health-based discounts or wellness incentives for customers within a healthy BMI range.\n",
        "\n",
        "Smoker Status: Smoking status had one of the most significant impacts on insurance charges. Smokers were charged dramatically higher amounts than non-smokers, validating the risk assessment criteria. This highlights the importance of continuing to collect and evaluate lifestyle data for policy underwriting.\n",
        "\n",
        "Age: Age was directly correlated with insurance charges. Older individuals tended to incur higher charges, which is consistent with the general increase in health risks over time. Age should continue to be a key factor in premium calculation.\n",
        "\n",
        "Health-Based Discounts: Based on BMI distributions, a case can be made for offering discounts to customers within a healthy BMI range (18.5-24.9). This could incentivize healthier lifestyles and potentially reduce claim rates."
      ],
      "metadata": {
        "id": "F6v_1wHtG2nS"
      }
    },
    {
      "cell_type": "code",
      "source": [],
      "metadata": {
        "id": "l_lNYdWi8GiM"
      },
      "execution_count": null,
      "outputs": []
    },
    {
      "cell_type": "markdown",
      "source": [
        "# **GitHub Link -**"
      ],
      "metadata": {
        "id": "w6K7xa23Elo4"
      }
    },
    {
      "cell_type": "markdown",
      "source": [
        "Provide your GitHub Link here."
      ],
      "metadata": {
        "id": "h1o69JH3Eqqn"
      }
    },
    {
      "cell_type": "markdown",
      "source": [
        "# **Problem Statement**\n"
      ],
      "metadata": {
        "id": "yQaldy8SH6Dl"
      }
    },
    {
      "cell_type": "markdown",
      "source": [
        "**Write Problem Statement Here.**\n",
        "\n",
        "To analyze Medibuddy's insurance data and identify key demographic and lifestyle factors—such as age, gender, BMI, region, smoking status, and dependents—that influence insurance charges, in order to optimize policy pricing, risk assessment, and customer segmentation strategies.\n",
        "\n",
        "\n",
        "\n",
        "\n",
        "\n",
        "\n",
        "\n",
        "\n"
      ],
      "metadata": {
        "id": "DpeJGUA3kjGy"
      }
    },
    {
      "cell_type": "markdown",
      "source": [
        "#### **Define Your Business Objective?**"
      ],
      "metadata": {
        "id": "PH-0ReGfmX4f"
      }
    },
    {
      "cell_type": "markdown",
      "source": [
        "1.Optimize Policy Pricing based on customer risk profiles.\n",
        "\n",
        "2.Identify High-Risk Individuals using factors like age, BMI, and smoking status.\n",
        "\n",
        "3.Enhance Customer Segmentation for targeted policy offerings.\n",
        "\n",
        "4.Evaluate Geographic Impact on insurance costs for regional pricing strategies.\n",
        "\n",
        "5.Explore Discount Opportunities based on health indicators to encourage wellness.\n",
        "\n",
        "\n",
        "\n",
        "\n",
        "\n",
        "\n",
        "\n",
        "\n"
      ],
      "metadata": {
        "id": "PhDvGCAqmjP1"
      }
    },
    {
      "cell_type": "markdown",
      "source": [
        "# **General Guidelines** : -  "
      ],
      "metadata": {
        "id": "mDgbUHAGgjLW"
      }
    },
    {
      "cell_type": "markdown",
      "source": [
        "1.   Well-structured, formatted, and commented code is required.\n",
        "2.   Exception Handling, Production Grade Code & Deployment Ready Code will be a plus. Those students will be awarded some additional credits.\n",
        "     \n",
        "     The additional credits will have advantages over other students during Star Student selection.\n",
        "       \n",
        "             [ Note: - Deployment Ready Code is defined as, the whole .ipynb notebook should be executable in one go\n",
        "                       without a single error logged. ]\n",
        "\n",
        "3.   Each and every logic should have proper comments.\n",
        "4. You may add as many number of charts you want. Make Sure for each and every chart the following format should be answered.\n",
        "        \n",
        "\n",
        "```\n",
        "# Chart visualization code\n",
        "```\n",
        "            \n",
        "\n",
        "*   Why did you pick the specific chart?\n",
        "*   What is/are the insight(s) found from the chart?\n",
        "* Will the gained insights help creating a positive business impact?\n",
        "Are there any insights that lead to negative growth? Justify with specific reason.\n",
        "\n",
        "5. You have to create at least 20 logical & meaningful charts having important insights.\n",
        "\n",
        "\n",
        "[ Hints : - Do the Vizualization in  a structured way while following \"UBM\" Rule.\n",
        "\n",
        "U - Univariate Analysis,\n",
        "\n",
        "B - Bivariate Analysis (Numerical - Categorical, Numerical - Numerical, Categorical - Categorical)\n",
        "\n",
        "M - Multivariate Analysis\n",
        " ]\n",
        "\n",
        "\n",
        "\n"
      ],
      "metadata": {
        "id": "ZrxVaUj-hHfC"
      }
    },
    {
      "cell_type": "markdown",
      "source": [
        "# ***Let's Begin !***"
      ],
      "metadata": {
        "id": "O_i_v8NEhb9l"
      }
    },
    {
      "cell_type": "markdown",
      "source": [
        "## ***1. Know Your Data***"
      ],
      "metadata": {
        "id": "HhfV-JJviCcP"
      }
    },
    {
      "cell_type": "markdown",
      "source": [
        "### Import Libraries"
      ],
      "metadata": {
        "id": "Y3lxredqlCYt"
      }
    },
    {
      "cell_type": "code",
      "source": [
        "# Import Libraries\n",
        "import pandas as pd\n",
        "import numpy as np\n",
        "import matplotlib.pyplot as plt\n",
        "import seaborn as sns\n",
        "from scipy import stats\n"
      ],
      "metadata": {
        "id": "M8Vqi-pPk-HR"
      },
      "execution_count": null,
      "outputs": []
    },
    {
      "cell_type": "markdown",
      "source": [
        "### Dataset Loading"
      ],
      "metadata": {
        "id": "3RnN4peoiCZX"
      }
    },
    {
      "cell_type": "code",
      "source": [
        "# Load Data\n",
        "file_path_details = \"Medibuddy insurance data personal details (1) (2).xlsx\"\n",
        "file_path_price = \"Medibuddy Insurance Data Price (1) (2).xlsx\"\n",
        "# read sheets into dataframe\n",
        "df_details=pd.read_excel(\"/content/Medibuddy insurance data personal details (1) (2).xlsx\")\n",
        "df_price=pd.read_excel('/content/Medibuddy Insurance Data Price (1) (2).xlsx')"
      ],
      "metadata": {
        "id": "4CkvbW_SlZ_R"
      },
      "execution_count": null,
      "outputs": []
    },
    {
      "cell_type": "code",
      "source": [
        "# Merge on 'Policy no.\n",
        "merged_df = pd.merge(df_details, df_price, on=\"Policy no.\", how=\"inner\")"
      ],
      "metadata": {
        "id": "XcpJuQSVAXfz"
      },
      "execution_count": null,
      "outputs": []
    },
    {
      "cell_type": "code",
      "source": [
        "# Save to CSV\n",
        "merged_df.to_csv(\"Merged_Medibuddy_Data.csv\", index=False)"
      ],
      "metadata": {
        "id": "FpB1O2zzAyfC"
      },
      "execution_count": null,
      "outputs": []
    },
    {
      "cell_type": "code",
      "source": [
        "# Load the merged data\n",
        "merged_df = pd.read_csv(\"Merged_Medibuddy_Data.csv\")"
      ],
      "metadata": {
        "id": "i6b6JatGA5YZ"
      },
      "execution_count": null,
      "outputs": []
    },
    {
      "cell_type": "code",
      "source": [
        "# Check head and tail of the data\n",
        "merged_df.head()\n",
        "merged_df.tail()"
      ],
      "metadata": {
        "id": "UOsyGxf2r8yZ"
      },
      "execution_count": null,
      "outputs": []
    },
    {
      "cell_type": "markdown",
      "source": [
        "### Dataset First View"
      ],
      "metadata": {
        "id": "x71ZqKXriCWQ"
      }
    },
    {
      "cell_type": "code",
      "source": [
        "# Dataset First Look\n",
        "#merged_df.head()"
      ],
      "metadata": {
        "id": "LWNFOSvLl09H"
      },
      "execution_count": null,
      "outputs": []
    },
    {
      "cell_type": "markdown",
      "source": [
        "### Dataset Rows & Columns count"
      ],
      "metadata": {
        "id": "7hBIi_osiCS2"
      }
    },
    {
      "cell_type": "code",
      "source": [
        "# Dataset Rows & Columns count\n",
        "merged_df.shape\n"
      ],
      "metadata": {
        "id": "Kllu7SJgmLij"
      },
      "execution_count": null,
      "outputs": []
    },
    {
      "cell_type": "markdown",
      "source": [
        "### Dataset Information"
      ],
      "metadata": {
        "id": "JlHwYmJAmNHm"
      }
    },
    {
      "cell_type": "code",
      "source": [
        "# Dataset Info\n",
        "merged_df.info()"
      ],
      "metadata": {
        "id": "e9hRXRi6meOf"
      },
      "execution_count": null,
      "outputs": []
    },
    {
      "cell_type": "markdown",
      "source": [
        "#### Duplicate Values"
      ],
      "metadata": {
        "id": "35m5QtbWiB9F"
      }
    },
    {
      "cell_type": "code",
      "source": [
        "# Dataset Duplicate Value Count\n",
        "merged_df.duplicated().sum()"
      ],
      "metadata": {
        "id": "1sLdpKYkmox0"
      },
      "execution_count": null,
      "outputs": []
    },
    {
      "cell_type": "markdown",
      "source": [
        "#### Missing Values/Null Values"
      ],
      "metadata": {
        "id": "PoPl-ycgm1ru"
      }
    },
    {
      "cell_type": "code",
      "source": [
        "# Missing Values/Null Values Count\n",
        "merged_df.isnull().sum()"
      ],
      "metadata": {
        "id": "GgHWkxvamxVg"
      },
      "execution_count": null,
      "outputs": []
    },
    {
      "cell_type": "code",
      "source": [
        "# Visualizing the missing values\n",
        "# Create a heatmap of missing values\n",
        "plt.figure(figsize=(8, 5))\n",
        "sns.heatmap(merged_df.isnull(), cbar=False, cmap='viridis')\n",
        "plt.title('Missing Values Heatmap')\n",
        "plt.show()"
      ],
      "metadata": {
        "id": "3q5wnI3om9sJ"
      },
      "execution_count": null,
      "outputs": []
    },
    {
      "cell_type": "markdown",
      "source": [
        "### What did you know about your dataset?"
      ],
      "metadata": {
        "id": "H0kj-8xxnORC"
      }
    },
    {
      "cell_type": "markdown",
      "source": [
        "There is no missing values in the dataset\n"
      ],
      "metadata": {
        "id": "gfoNAAC-nUe_"
      }
    },
    {
      "cell_type": "markdown",
      "source": [
        "## ***2. Understanding Your Variables***"
      ],
      "metadata": {
        "id": "nA9Y7ga8ng1Z"
      }
    },
    {
      "cell_type": "code",
      "source": [
        "# Dataset Columns\n",
        "merged_df.columns"
      ],
      "metadata": {
        "id": "j7xfkqrt5Ag5"
      },
      "execution_count": null,
      "outputs": []
    },
    {
      "cell_type": "code",
      "source": [
        "# Dataset Describe\n",
        "merged_df.describe()"
      ],
      "metadata": {
        "id": "DnOaZdaE5Q5t"
      },
      "execution_count": null,
      "outputs": []
    },
    {
      "cell_type": "markdown",
      "source": [
        "### Variables Description"
      ],
      "metadata": {
        "id": "PBTbrJXOngz2"
      }
    },
    {
      "cell_type": "markdown",
      "source": [
        "Policy No- Unique identifier for each insurance policy\n",
        "\n",
        "Age- Age of the insured individual (in years)\n",
        "\n",
        "Sex- Gender of the individual (male / female)\n",
        "\n",
        "BMI- Body Mass Index - a measure of body fat\n",
        "\n",
        "Children- Number of dependents (children) covered\n",
        "\n",
        "Smoker- Smoking status (yes / no)\n",
        "\n",
        "Region- Geographic location (northeast, northwest, etc.)\n",
        "\n",
        "Charge in INR- Total insurance claim amount in Indian Rupees (INR)"
      ],
      "metadata": {
        "id": "aJV4KIxSnxay"
      }
    },
    {
      "cell_type": "markdown",
      "source": [
        "### Check Unique Values for each variable."
      ],
      "metadata": {
        "id": "u3PMJOP6ngxN"
      }
    },
    {
      "cell_type": "code",
      "source": [
        "# Check Unique Values for each variable.\n",
        "unique_values = merged_df.nunique()\n",
        "unique_values"
      ],
      "metadata": {
        "id": "zms12Yq5n-jE"
      },
      "execution_count": null,
      "outputs": []
    },
    {
      "cell_type": "markdown",
      "source": [
        "## 3. ***Data Wrangling***"
      ],
      "metadata": {
        "id": "dauF4eBmngu3"
      }
    },
    {
      "cell_type": "code",
      "source": [
        "#Outliers detection (z Score)\n",
        "# Compute Z-scores\n",
        "z_scores = np.abs(stats.zscore(merged_df.select_dtypes(include=[np.number])))\n"
      ],
      "metadata": {
        "id": "i1y-DeBTJEk_"
      },
      "execution_count": null,
      "outputs": []
    },
    {
      "cell_type": "code",
      "source": [
        "# Identify rows with z-score > 3 (outliers)\n",
        "outlier_rows = (np.abs(z_scores) > 3).any(axis=1)\n"
      ],
      "metadata": {
        "id": "RfRR071nJgS9"
      },
      "execution_count": null,
      "outputs": []
    },
    {
      "cell_type": "code",
      "source": [
        "print(\"Number of outlier rows:\", outlier_rows.sum())"
      ],
      "metadata": {
        "id": "8Wi7K4mfJqyu"
      },
      "execution_count": null,
      "outputs": []
    },
    {
      "cell_type": "code",
      "source": [
        "# Exact duplicate rows\n",
        "exact_duplicates = merged_df[merged_df.duplicated()]\n",
        "print(\"Exact Duplicate Rows:\\n\", exact_duplicates)\n"
      ],
      "metadata": {
        "id": "ZNmU0j4nJ5vQ"
      },
      "execution_count": null,
      "outputs": []
    },
    {
      "cell_type": "code",
      "source": [
        "# Duplicate rows based on 'age', 'region', 'charges'\n",
        "column_duplicates = merged_df[merged_df.duplicated(subset=['age', 'region', 'charges in INR'])]\n",
        "print(\"Duplicate Rows based on 'age', 'region', 'charges':\\n\", column_duplicates)"
      ],
      "metadata": {
        "id": "pvbDkIrVKO_u"
      },
      "execution_count": null,
      "outputs": []
    },
    {
      "cell_type": "markdown",
      "source": [
        "### Data Wrangling Code"
      ],
      "metadata": {
        "id": "bKJF3rekwFvQ"
      }
    },
    {
      "cell_type": "markdown",
      "source": [
        "### What all manipulations have you done and insights you found?"
      ],
      "metadata": {
        "id": "MSa1f5Uengrz"
      }
    },
    {
      "cell_type": "markdown",
      "source": [
        "Merged two datasets on Policy no.\n",
        "\n",
        "Cleaned data (removed duplicates, handled missing values)\n",
        "\n",
        "Converted data types and standardized columns\n",
        "\n",
        "Detected outliers using Z-scores\n",
        "\n",
        "Performed exploratory data analysis with visualizations\n",
        "\n",
        "In merged dataset doing data wrngling for finding duplicate"
      ],
      "metadata": {
        "id": "LbyXE7I1olp8"
      }
    },
    {
      "cell_type": "markdown",
      "source": [
        "## ***4. Data Vizualization, Storytelling & Experimenting with charts : Understand the relationships between variables***"
      ],
      "metadata": {
        "id": "GF8Ens_Soomf"
      }
    },
    {
      "cell_type": "markdown",
      "source": [
        "#### Chart - 1"
      ],
      "metadata": {
        "id": "0wOQAZs5pc--"
      }
    },
    {
      "cell_type": "code",
      "source": [
        "# Chart - 1 visualization code\n",
        "#Gender vs Charges\n",
        "plt.figure(figsize=(8, 6))\n",
        "sns.boxplot(x='sex', y='charges in INR', data=merged_df)\n",
        "plt.title('Gender vs Charges')\n",
        "plt.xlabel('Gender')\n",
        "plt.ylabel('Charges in INR')\n"
      ],
      "metadata": {
        "id": "7v_ESjsspbW7"
      },
      "execution_count": null,
      "outputs": []
    },
    {
      "cell_type": "markdown",
      "source": [
        " Question. Does the gender of the person matter for the company as a constraint for extending policies?"
      ],
      "metadata": {
        "id": "PzTTRby9u6sZ"
      }
    },
    {
      "cell_type": "markdown",
      "source": [
        "Answer: The boxplot shows charges by gender, but unless there's a clear, significant difference, gender should not be a constraint for extending policies due to ethical, legal, and fairness concerns. Other factors like age, smoking, or BMI are more relevant."
      ],
      "metadata": {
        "id": "BU_geShgu8VA"
      }
    },
    {
      "cell_type": "markdown",
      "source": [
        "##### 1. Why did you pick the specific chart?"
      ],
      "metadata": {
        "id": "K5QZ13OEpz2H"
      }
    },
    {
      "cell_type": "markdown",
      "source": [
        "I used a boxplot because:\n",
        "\n",
        "It effectively displays distribution, median, interquartile range (IQR), and outliers.\n",
        "\n",
        "It compares a numerical variable (charges in INR) against a categorical variable (sex), which is ideal for boxplots.\n",
        "\n"
      ],
      "metadata": {
        "id": "XESiWehPqBRc"
      }
    },
    {
      "cell_type": "markdown",
      "source": [
        "##### 2. What is/are the insight(s) found from the chart?"
      ],
      "metadata": {
        "id": "lQ7QKXXCp7Bj"
      }
    },
    {
      "cell_type": "markdown",
      "source": [
        "The median charges for both males and females are very close.\n",
        "\n",
        "The spread (IQR) is similar for both genders.\n",
        "\n",
        "The number and position of outliers are also fairly balanced."
      ],
      "metadata": {
        "id": "C_j1G7yiqdRP"
      }
    },
    {
      "cell_type": "markdown",
      "source": [
        "##### 3. Will the gained insights help creating a positive business impact?\n",
        "Are there any insights that lead to negative growth? Justify with specific reason."
      ],
      "metadata": {
        "id": "448CDAPjqfQr"
      }
    },
    {
      "cell_type": "markdown",
      "source": [
        "Positive Impact:\n",
        "The company can avoid gender-based pricing, which:\n",
        "\n",
        "Simplifies the pricing model\n",
        "\n",
        "Promotes fairness and equality\n",
        "\n",
        "Aligns with ethical insurance practices\n",
        "\n",
        "Avoids potential legal and regulatory issues\n",
        "\n",
        "No negative impact is expected."
      ],
      "metadata": {
        "id": "3cspy4FjqxJW"
      }
    },
    {
      "cell_type": "markdown",
      "source": [
        "#### Chart - 2"
      ],
      "metadata": {
        "id": "KSlN3yHqYklG"
      }
    },
    {
      "cell_type": "code",
      "source": [
        "\n",
        "# Chart - 2 visualization code\n",
        "#Average charges\n",
        "average_charges = merged_df['charges in INR'].mean()\n",
        "\n",
        "# Delete the variable named 'print' to restore the built-in print function\n",
        "\n",
        "# del print\n",
        "\n",
        "print(\"Average Charges:\", average_charges)\n",
        "\n"
      ],
      "metadata": {
        "id": "R4YgtaqtYklH"
      },
      "execution_count": null,
      "outputs": []
    },
    {
      "cell_type": "markdown",
      "source": [
        " Question:What is the average amount of money the company spent over each policy\n",
        "cover?"
      ],
      "metadata": {
        "id": "_r5twOcrvi-Y"
      }
    },
    {
      "cell_type": "markdown",
      "source": [
        "Answer: The average amount of money the company spends per policy cover is ₹13,270.42.\n",
        "\n"
      ],
      "metadata": {
        "id": "i5vbhLeswmkH"
      }
    },
    {
      "cell_type": "markdown",
      "source": [
        "##### 1. Why did you pick the specific chart?"
      ],
      "metadata": {
        "id": "t6dVpIINYklI"
      }
    },
    {
      "cell_type": "markdown",
      "source": [
        "i did not chose any chart for this, Simply I am using print statement for Average Charges, as printed value is ideal to display a single summary metric like average charges — it is clean, quick, and to the point."
      ],
      "metadata": {
        "id": "5aaW0BYyYklI"
      }
    },
    {
      "cell_type": "markdown",
      "source": [
        "##### 2. What is/are the insight(s) found from the chart?"
      ],
      "metadata": {
        "id": "ijmpgYnKYklI"
      }
    },
    {
      "cell_type": "markdown",
      "source": [
        "The average insurance charge is approximately Rs13,000-Rs15,000.\n",
        "\n",
        "This sets a benchmark for policy pricing and expected payouts.\n",
        "\n"
      ],
      "metadata": {
        "id": "PSx9atu2YklI"
      }
    },
    {
      "cell_type": "markdown",
      "source": [
        "##### 3. Will the gained insights help creating a positive business impact?\n",
        "Are there any insights that lead to negative growth? Justify with specific reason."
      ],
      "metadata": {
        "id": "-JiQyfWJYklI"
      }
    },
    {
      "cell_type": "markdown",
      "source": [
        "Positive Impact:\n",
        "\n",
        "Helps in budget forecasting, premium design, and understanding profitability margins.\n",
        "\n",
        " No negative growth observed from this insight — unless claims consistently exceed this average, which would signal financial loss (but needs further analysis)."
      ],
      "metadata": {
        "id": "BcBbebzrYklV"
      }
    },
    {
      "cell_type": "markdown",
      "source": [
        "#### Chart - 3"
      ],
      "metadata": {
        "id": "EM7whBJCYoAo"
      }
    },
    {
      "cell_type": "code",
      "source": [
        "# Chart - 3 visualization code\n",
        "#Region vs Charges\n",
        "plt.figure(figsize=(10, 5))\n",
        "sns.barplot(x='region', y='charges in INR', data=merged_df)\n",
        "plt.title('Region vs Charges')\n",
        "plt.xlabel('Region')\n",
        "plt.ylabel('Charges in INR')\n"
      ],
      "metadata": {
        "id": "t6GMdE67YoAp"
      },
      "execution_count": null,
      "outputs": []
    },
    {
      "cell_type": "markdown",
      "source": [
        " Question:Could you advice if the company needs to offer separate policies based upon the\n",
        "geographic location of the person?"
      ],
      "metadata": {
        "id": "waehaNHwxJtA"
      }
    },
    {
      "cell_type": "markdown",
      "source": [
        "Yes, I advice the company should consider offering separate policies by geographic region by analyzing the bar plot of Region vs Charges.\n",
        "\n"
      ],
      "metadata": {
        "id": "BfJONBpbxUr_"
      }
    },
    {
      "cell_type": "markdown",
      "source": [
        "##### 1. Why did you pick the specific chart?"
      ],
      "metadata": {
        "id": "fge-S5ZAYoAp"
      }
    },
    {
      "cell_type": "markdown",
      "source": [
        "I chose bar chart was chosen because it clearly shows the average charges across different geographic regions. It’s simple, effective, and ideal for comparing grouped numerical values like costs by region.\n",
        "\n"
      ],
      "metadata": {
        "id": "wxSIHQt30El2"
      }
    },
    {
      "cell_type": "markdown",
      "source": [
        "##### 2. What is/are the insight(s) found from the chart?"
      ],
      "metadata": {
        "id": "85gYPyotYoAp"
      }
    },
    {
      "cell_type": "markdown",
      "source": [
        "The chart reveals whether there are regional variations in how much the company is spending on policyholders.\n",
        "\n",
        "If some regions show higher average charges, it may indicate higher risk, cost of healthcare, or health issues in those areas.\n",
        "\n",
        "Other regions with lower charges may represent lower-risk customer groups.\n",
        "\n"
      ],
      "metadata": {
        "id": "4jstXR6OYoAp"
      }
    },
    {
      "cell_type": "markdown",
      "source": [
        "##### 3. Will the gained insights help creating a positive business impact?\n",
        "Are there any insights that lead to negative growth? Justify with specific reason."
      ],
      "metadata": {
        "id": "RoGjAbkUYoAp"
      }
    },
    {
      "cell_type": "markdown",
      "source": [
        " Positive Impact: Yes. These insights allow the company to:\n",
        "\n",
        "Segment policy offerings based on region,\n",
        "\n",
        "Price premiums more accurately,\n",
        "\n",
        "Reduce losses by adjusting risk exposure,\n",
        "\n",
        "Improve customer targeting for marketing and policy design.\n",
        "\n",
        "Neagtive impact:  yes, if misused:\n",
        "\n",
        "If the company increases premiums too much in high-cost regions, it may lose customers or face regulatory issues.\n",
        "\n",
        "Over-segmentation can lead to complexity, higher operational costs, and customer dissatisfaction.\n",
        "\n",
        "\n",
        "\n"
      ],
      "metadata": {
        "id": "zfJ8IqMcYoAp"
      }
    },
    {
      "cell_type": "markdown",
      "source": [
        "#### Chart - 4"
      ],
      "metadata": {
        "id": "4Of9eVA-YrdM"
      }
    },
    {
      "cell_type": "code",
      "source": [
        "# Chart - 4 visualization code\n",
        "#Children (dependents) vs Charges\n",
        "plt.figure(figsize=(10, 5))\n",
        "sns.boxplot(x='children', y='charges in INR', data=merged_df)\n",
        "plt.title('Children (Dependents) vs Charges')\n",
        "plt.xlabel('Children (Dependents)')\n",
        "plt.ylabel('Charges in INR')\n",
        "plt.show()"
      ],
      "metadata": {
        "id": "irlUoxc8YrdO"
      },
      "execution_count": null,
      "outputs": []
    },
    {
      "cell_type": "markdown",
      "source": [
        " Question: Does the no. of dependents make a difference in the amount claimed?"
      ],
      "metadata": {
        "id": "ZzPocTIg1Bt2"
      }
    },
    {
      "cell_type": "markdown",
      "source": [
        "Answer: The number of dependents does not significantly impact the amount claimed."
      ],
      "metadata": {
        "id": "kZQjTv7a1OXt"
      }
    },
    {
      "cell_type": "markdown",
      "source": [
        "##### 1. Why did you pick the specific chart?"
      ],
      "metadata": {
        "id": "iky9q4vBYrdO"
      }
    },
    {
      "cell_type": "markdown",
      "source": [
        " I chose boxplot because it effectively shows the distribution and spread of charges across different numbers of dependents (children). It helps visualize:\n",
        "\n",
        "Medians,\n",
        "\n",
        "Variability (IQR),\n",
        "\n",
        "Outliers."
      ],
      "metadata": {
        "id": "aJRCwT6DYrdO"
      }
    },
    {
      "cell_type": "markdown",
      "source": [
        "##### 2. What is/are the insight(s) found from the chart?"
      ],
      "metadata": {
        "id": "F6T5p64dYrdO"
      }
    },
    {
      "cell_type": "markdown",
      "source": [
        "The chart shows that:\n",
        "\n",
        "The number of children (dependents) has little to no impact on the amount claimed.\n",
        "\n",
        "Medians and spreads are similar across categories, meaning charges are not strongly correlated with dependents.\n",
        "\n"
      ],
      "metadata": {
        "id": "Xx8WAJvtYrdO"
      }
    },
    {
      "cell_type": "markdown",
      "source": [
        "##### 3. Will the gained insights help creating a positive business impact?\n",
        "Are there any insights that lead to negative growth? Justify with specific reason."
      ],
      "metadata": {
        "id": "y-Ehk30pYrdP"
      }
    },
    {
      "cell_type": "markdown",
      "source": [
        " Positive Impact: Yes. The insight helps the company by:\n",
        "Avoiding unnecessary segmentation based on number of dependents,\n",
        "\n",
        "Keeping policies simple and fair,\n",
        "\n",
        "Focusing pricing on more influential factors (e.g., age, smoking, BMI).\n",
        "\n",
        "Negative Impact:  No negative growth if applied correctly.\n"
      ],
      "metadata": {
        "id": "jLNxxz7MYrdP"
      }
    },
    {
      "cell_type": "markdown",
      "source": [
        "#### Chart - 5"
      ],
      "metadata": {
        "id": "bamQiAODYuh1"
      }
    },
    {
      "cell_type": "code",
      "source": [
        "# Chart - 5 visualization code\n",
        "# BMI Vs Charges\n",
        "plt.figure(figsize=(10, 5))\n",
        "sns.scatterplot(x='bmi', y='charges in INR', data=merged_df)\n",
        "plt.title('BMI vs Charges')\n",
        "plt.xlabel('BMI')\n",
        "plt.ylabel('Charges in INR')"
      ],
      "metadata": {
        "id": "TIJwrbroYuh3"
      },
      "execution_count": null,
      "outputs": []
    },
    {
      "cell_type": "markdown",
      "source": [
        "Question: Does a study of persons BMI get the company any idea for the insurance claim\n",
        "that it would extend?"
      ],
      "metadata": {
        "id": "TGFXYymo2fU9"
      }
    },
    {
      "cell_type": "markdown",
      "source": [
        "Answer: Yes, studying a person's BMI does help the company estimate potential insurance claims.\n",
        "\n"
      ],
      "metadata": {
        "id": "9h1OgxDM2kHt"
      }
    },
    {
      "cell_type": "markdown",
      "source": [
        "##### 1. Why did you pick the specific chart?"
      ],
      "metadata": {
        "id": "QHF8YVU7Yuh3"
      }
    },
    {
      "cell_type": "markdown",
      "source": [
        "The scatter plot was chosen because it shows the relationship between two continuous variables — BMI and Charges. It clearly reveals whether there is:\n",
        "\n",
        "A trend or pattern,\n",
        "\n",
        "A correlation (e.g., higher BMI → higher charges),\n",
        "\n",
        "Any clusters or outliers."
      ],
      "metadata": {
        "id": "dcxuIMRPYuh3"
      }
    },
    {
      "cell_type": "markdown",
      "source": [
        "##### 2. What is/are the insight(s) found from the chart?"
      ],
      "metadata": {
        "id": "GwzvFGzlYuh3"
      }
    },
    {
      "cell_type": "markdown",
      "source": [
        "There is a positive correlation: as BMI increases, especially beyond 30 (obese range), insurance charges tend to rise.\n",
        "\n",
        "People with high BMI are more likely to incur higher healthcare costs due to obesity-related conditions.\n",
        "\n"
      ],
      "metadata": {
        "id": "uyqkiB8YYuh3"
      }
    },
    {
      "cell_type": "markdown",
      "source": [
        "##### 3. Will the gained insights help creating a positive business impact?\n",
        "Are there any insights that lead to negative growth? Justify with specific reason."
      ],
      "metadata": {
        "id": "qYpmQ266Yuh3"
      }
    },
    {
      "cell_type": "markdown",
      "source": [
        "Positive Impact:   Yes. These insights allow the company to:\n",
        "\n",
        "Assess health risk more accurately,\n",
        "\n",
        "Set appropriate premiums,\n",
        "\n",
        "Encourage wellness programs for high-BMI customers to reduce future claims.\n",
        "\n",
        "Negative Impact: No"
      ],
      "metadata": {
        "id": "_WtzZ_hCYuh4"
      }
    },
    {
      "cell_type": "markdown",
      "source": [
        "#### Chart - 6"
      ],
      "metadata": {
        "id": "OH-pJp9IphqM"
      }
    },
    {
      "cell_type": "code",
      "source": [
        "# Chart - 6 visualization code\n",
        "# Smoker vs Non-Smoker\n",
        "sns.histplot(x='smoker', y='charges in INR', data=merged_df)\n",
        "plt.title('Smoker vs Non-Smoker')\n",
        "plt.xlabel('Smoker')\n",
        "plt.ylabel('Charges in INR')\n",
        "plt.show()\n",
        "\n"
      ],
      "metadata": {
        "id": "kuRf4wtuphqN"
      },
      "execution_count": null,
      "outputs": []
    },
    {
      "cell_type": "markdown",
      "source": [
        "Question:  Is it needed for the company to understand whether the person covered is a\n",
        "smoker or a non-smoker?"
      ],
      "metadata": {
        "id": "qsjhlOpg3kMl"
      }
    },
    {
      "cell_type": "markdown",
      "source": [
        "Answer: Yes, it is very important for the company to know whether a person is a smoker or non-smoker.\n",
        "\n"
      ],
      "metadata": {
        "id": "3nnCe5Yb3pXl"
      }
    },
    {
      "cell_type": "markdown",
      "source": [
        "##### 1. Why did you pick the specific chart?"
      ],
      "metadata": {
        "id": "bbFf2-_FphqN"
      }
    },
    {
      "cell_type": "markdown",
      "source": [
        "I chose histogram because it compare the distribution of charges between smokers and non-smokers. It visually highlights the frequency and charge amounts for each group, making it easy to spot differences in cost behavior."
      ],
      "metadata": {
        "id": "loh7H2nzphqN"
      }
    },
    {
      "cell_type": "markdown",
      "source": [
        "##### 2. What is/are the insight(s) found from the chart?"
      ],
      "metadata": {
        "id": "_ouA3fa0phqN"
      }
    },
    {
      "cell_type": "markdown",
      "source": [
        "Smokers incur much higher charges compared to non-smokers.\n",
        "\n",
        "The chart shows a clear and significant cost difference between the two groups.\n",
        "\n",
        "Smoking is strongly associated with higher medical expenses and insurance claims.\n",
        "\n"
      ],
      "metadata": {
        "id": "VECbqPI7phqN"
      }
    },
    {
      "cell_type": "markdown",
      "source": [
        "##### 3. Will the gained insights help creating a positive business impact?\n",
        "Are there any insights that lead to negative growth? Justify with specific reason."
      ],
      "metadata": {
        "id": "Seke61FWphqN"
      }
    },
    {
      "cell_type": "markdown",
      "source": [
        "Positive Impact: Yes. These insights help the company:\n",
        "\n",
        "Assess risk accurately,\n",
        "\n",
        "Price premiums appropriately (higher for smokers),\n",
        "\n",
        "Promote wellness programs or incentives to reduce smoking.\n",
        "\n",
        "\n",
        "Negative Impact: Possibly, if not managed ethically:\n",
        "\n",
        "Overcharging smokers or denying coverage may cause customer backlash or legal issues.\n",
        "\n",
        "Could lead to loss of trust or negative brand perception."
      ],
      "metadata": {
        "id": "DW4_bGpfphqN"
      }
    },
    {
      "cell_type": "markdown",
      "source": [
        "#### Chart - 7"
      ],
      "metadata": {
        "id": "PIIx-8_IphqN"
      }
    },
    {
      "cell_type": "code",
      "source": [
        "# Chart - 7 visualization code\n",
        "#  Age vs Charges\n",
        "plt.figure(figsize=(10, 5))\n",
        "sns.scatterplot(x='age', y='charges in INR', data=merged_df)\n",
        "plt.title('Age vs Charges')\n",
        "plt.xlabel('Age')\n",
        "plt.ylabel('Charges in INR')"
      ],
      "metadata": {
        "id": "lqAIGUfyphqO"
      },
      "execution_count": null,
      "outputs": []
    },
    {
      "cell_type": "markdown",
      "source": [
        "Question: Does age have any barrier on the insurance claimed?"
      ],
      "metadata": {
        "id": "MAwRkubX4tTE"
      }
    },
    {
      "cell_type": "markdown",
      "source": [
        "Answer: Yes, age has a clear impact on insurance claims — older individuals tend to claim higher amounts."
      ],
      "metadata": {
        "id": "1WygLkRj4wVE"
      }
    },
    {
      "cell_type": "markdown",
      "source": [
        "##### 1. Why did you pick the specific chart?"
      ],
      "metadata": {
        "id": "t27r6nlMphqO"
      }
    },
    {
      "cell_type": "markdown",
      "source": [
        "The scatter plot was chosen because it’s ideal for showing the relationship between two continuous variables — age and insurance charges.\n",
        "It helps visualize:\n",
        "\n",
        "Trends across age groups\n",
        "\n",
        "Variations in charges\n",
        "\n"
      ],
      "metadata": {
        "id": "iv6ro40sphqO"
      }
    },
    {
      "cell_type": "markdown",
      "source": [
        "##### 2. What is/are the insight(s) found from the chart?"
      ],
      "metadata": {
        "id": "r2jJGEOYphqO"
      }
    },
    {
      "cell_type": "markdown",
      "source": [
        "There is a positive correlation: as age increases, charges tend to rise.\n",
        "\n",
        "Especially after middle age, charges increase more steeply, reflecting higher health risks and medical costs in older individuals.\n",
        "\n"
      ],
      "metadata": {
        "id": "Po6ZPi4hphqO"
      }
    },
    {
      "cell_type": "markdown",
      "source": [
        "##### 3. Will the gained insights help creating a positive business impact?\n",
        "Are there any insights that lead to negative growth? Justify with specific reason."
      ],
      "metadata": {
        "id": "b0JNsNcRphqO"
      }
    },
    {
      "cell_type": "markdown",
      "source": [
        "Positive Impact: Yes. The insights enable the company to:\n",
        "\n",
        "Design age-based pricing for policies,\n",
        "\n",
        "Predict future claim costs,\n",
        "\n",
        "Develop age-specific coverage plans (e.g., senior health policies),\n",
        "\n",
        "Improve risk management and profitability.\n",
        "\n",
        "But with balanced pricing and senior-friendly plans, it can drive positive business growth and customer retention.\n",
        "\n",
        "Negative Impact: Potentially, yes, if misapplied\n",
        "\n",
        "\n",
        "\n"
      ],
      "metadata": {
        "id": "xvSq8iUTphqO"
      }
    },
    {
      "cell_type": "markdown",
      "source": [
        "#### Chart - 8"
      ],
      "metadata": {
        "id": "BZR9WyysphqO"
      }
    },
    {
      "cell_type": "code",
      "source": [
        "# Chart - 8 visualization code\n",
        "# BMI Distribution for Health-Based Discounts\n",
        "plt.figure(figsize=(10, 5))\n",
        "sns.histplot(x='bmi', kde=True, data=merged_df)\n",
        "plt.title('BMI Distribution for Health-Based Discounts')\n",
        "plt.xlabel('BMI')\n",
        "plt.ylabel('Density')"
      ],
      "metadata": {
        "id": "TdPTWpAVphqO"
      },
      "execution_count": null,
      "outputs": []
    },
    {
      "cell_type": "markdown",
      "source": [
        "Question: Can the company extend certain discounts after checking the health status\n",
        "(BMI) in this case?"
      ],
      "metadata": {
        "id": "6dbZP99X54gs"
      }
    },
    {
      "cell_type": "markdown",
      "source": [
        "Answer: Yes, the company can extend health-based discounts using BMI as a criterion."
      ],
      "metadata": {
        "id": "1OSjuGt15691"
      }
    },
    {
      "cell_type": "markdown",
      "source": [
        "##### 1. Why did you pick the specific chart?"
      ],
      "metadata": {
        "id": "jj7wYXLtphqO"
      }
    },
    {
      "cell_type": "markdown",
      "source": [
        "I chose histogram with KDE because it clearly shows the distribution of BMI across the population.\n",
        "It helps identify:\n",
        "\n",
        "How many people fall into healthy, overweight, or obese categories,\n",
        "\n",
        "Where discount thresholds could be applied.\n",
        "\n"
      ],
      "metadata": {
        "id": "Ob8u6rCTphqO"
      }
    },
    {
      "cell_type": "markdown",
      "source": [
        "##### 2. What is/are the insight(s) found from the chart?"
      ],
      "metadata": {
        "id": "eZrbJ2SmphqO"
      }
    },
    {
      "cell_type": "markdown",
      "source": [
        "A significant number of individuals may fall in or near the healthy BMI range (18.5-24.9).\n",
        "\n",
        "This allows the company to target and reward healthier individuals.\n",
        "\n",
        "Also highlights the proportion at higher risk , who may need wellness interventions.\n",
        "\n"
      ],
      "metadata": {
        "id": "mZtgC_hjphqO"
      }
    },
    {
      "cell_type": "markdown",
      "source": [
        "##### 3. Will the gained insights help creating a positive business impact?\n",
        "Are there any insights that lead to negative growth? Justify with specific reason."
      ],
      "metadata": {
        "id": "rFu4xreNphqO"
      }
    },
    {
      "cell_type": "markdown",
      "source": [
        "Positive Impact:  Yes. The insights support:\n",
        "\n",
        "Offering health-based discounts to low-risk individuals,\n",
        "\n",
        "Reducing future claims through preventive health incentives,\n",
        "\n",
        "Encouraging healthier lifestyles, leading to long-term savings.\n",
        "\n",
        "Negative Impact: yes, if not handled fairly:\n",
        "\n",
        "If high-BMI customers feel penalized without support, it may cause:\n",
        "\n",
        "Customer dissatisfaction or churn,\n",
        "\n",
        "Negative publicity."
      ],
      "metadata": {
        "id": "cjgFe6VI6qQc"
      }
    },
    {
      "cell_type": "markdown",
      "source": [
        "#### Chart - 9"
      ],
      "metadata": {
        "id": "YJ55k-q6phqO"
      }
    },
    {
      "cell_type": "code",
      "source": [
        "# Chart - 9 visualization code"
      ],
      "metadata": {
        "id": "B2aS4O1ophqO"
      },
      "execution_count": null,
      "outputs": []
    },
    {
      "cell_type": "markdown",
      "source": [
        "##### 1. Why did you pick the specific chart?"
      ],
      "metadata": {
        "id": "gCFgpxoyphqP"
      }
    },
    {
      "cell_type": "markdown",
      "source": [
        "Answer Here."
      ],
      "metadata": {
        "id": "TVxDimi2phqP"
      }
    },
    {
      "cell_type": "markdown",
      "source": [
        "##### 2. What is/are the insight(s) found from the chart?"
      ],
      "metadata": {
        "id": "OVtJsKN_phqQ"
      }
    },
    {
      "cell_type": "markdown",
      "source": [
        "Answer Here"
      ],
      "metadata": {
        "id": "ngGi97qjphqQ"
      }
    },
    {
      "cell_type": "markdown",
      "source": [
        "##### 3. Will the gained insights help creating a positive business impact?\n",
        "Are there any insights that lead to negative growth? Justify with specific reason."
      ],
      "metadata": {
        "id": "lssrdh5qphqQ"
      }
    },
    {
      "cell_type": "markdown",
      "source": [
        "Answer Here"
      ],
      "metadata": {
        "id": "tBpY5ekJphqQ"
      }
    },
    {
      "cell_type": "markdown",
      "source": [
        "#### Chart - 10"
      ],
      "metadata": {
        "id": "U2RJ9gkRphqQ"
      }
    },
    {
      "cell_type": "code",
      "source": [
        "# Chart - 10 visualization code"
      ],
      "metadata": {
        "id": "GM7a4YP4phqQ"
      },
      "execution_count": null,
      "outputs": []
    },
    {
      "cell_type": "markdown",
      "source": [
        "##### 1. Why did you pick the specific chart?"
      ],
      "metadata": {
        "id": "1M8mcRywphqQ"
      }
    },
    {
      "cell_type": "markdown",
      "source": [
        "Answer Here."
      ],
      "metadata": {
        "id": "8agQvks0phqQ"
      }
    },
    {
      "cell_type": "markdown",
      "source": [
        "##### 2. What is/are the insight(s) found from the chart?"
      ],
      "metadata": {
        "id": "tgIPom80phqQ"
      }
    },
    {
      "cell_type": "markdown",
      "source": [
        "Answer Here"
      ],
      "metadata": {
        "id": "Qp13pnNzphqQ"
      }
    },
    {
      "cell_type": "markdown",
      "source": [
        "##### 3. Will the gained insights help creating a positive business impact?\n",
        "Are there any insights that lead to negative growth? Justify with specific reason."
      ],
      "metadata": {
        "id": "JMzcOPDDphqR"
      }
    },
    {
      "cell_type": "markdown",
      "source": [
        "Answer Here"
      ],
      "metadata": {
        "id": "R4Ka1PC2phqR"
      }
    },
    {
      "cell_type": "markdown",
      "source": [
        "#### Chart - 11"
      ],
      "metadata": {
        "id": "x-EpHcCOp1ci"
      }
    },
    {
      "cell_type": "code",
      "source": [
        "# Chart - 11 visualization code"
      ],
      "metadata": {
        "id": "mAQTIvtqp1cj"
      },
      "execution_count": null,
      "outputs": []
    },
    {
      "cell_type": "markdown",
      "source": [
        "##### 1. Why did you pick the specific chart?"
      ],
      "metadata": {
        "id": "X_VqEhTip1ck"
      }
    },
    {
      "cell_type": "markdown",
      "source": [
        "Answer Here."
      ],
      "metadata": {
        "id": "-vsMzt_np1ck"
      }
    },
    {
      "cell_type": "markdown",
      "source": [
        "##### 2. What is/are the insight(s) found from the chart?"
      ],
      "metadata": {
        "id": "8zGJKyg5p1ck"
      }
    },
    {
      "cell_type": "markdown",
      "source": [
        "Answer Here"
      ],
      "metadata": {
        "id": "ZYdMsrqVp1ck"
      }
    },
    {
      "cell_type": "markdown",
      "source": [
        "##### 3. Will the gained insights help creating a positive business impact?\n",
        "Are there any insights that lead to negative growth? Justify with specific reason."
      ],
      "metadata": {
        "id": "PVzmfK_Ep1ck"
      }
    },
    {
      "cell_type": "markdown",
      "source": [
        "Answer Here"
      ],
      "metadata": {
        "id": "druuKYZpp1ck"
      }
    },
    {
      "cell_type": "markdown",
      "source": [
        "#### Chart - 12"
      ],
      "metadata": {
        "id": "n3dbpmDWp1ck"
      }
    },
    {
      "cell_type": "code",
      "source": [
        "# Chart - 12 visualization code"
      ],
      "metadata": {
        "id": "bwevp1tKp1ck"
      },
      "execution_count": null,
      "outputs": []
    },
    {
      "cell_type": "markdown",
      "source": [
        "##### 1. Why did you pick the specific chart?"
      ],
      "metadata": {
        "id": "ylSl6qgtp1ck"
      }
    },
    {
      "cell_type": "markdown",
      "source": [
        "Answer Here."
      ],
      "metadata": {
        "id": "m2xqNkiQp1ck"
      }
    },
    {
      "cell_type": "markdown",
      "source": [
        "##### 2. What is/are the insight(s) found from the chart?"
      ],
      "metadata": {
        "id": "ZWILFDl5p1ck"
      }
    },
    {
      "cell_type": "markdown",
      "source": [
        "Answer Here"
      ],
      "metadata": {
        "id": "x-lUsV2mp1ck"
      }
    },
    {
      "cell_type": "markdown",
      "source": [
        "##### 3. Will the gained insights help creating a positive business impact?\n",
        "Are there any insights that lead to negative growth? Justify with specific reason."
      ],
      "metadata": {
        "id": "M7G43BXep1ck"
      }
    },
    {
      "cell_type": "markdown",
      "source": [
        "Answer Here"
      ],
      "metadata": {
        "id": "5wwDJXsLp1cl"
      }
    },
    {
      "cell_type": "markdown",
      "source": [
        "#### Chart - 13"
      ],
      "metadata": {
        "id": "Ag9LCva-p1cl"
      }
    },
    {
      "cell_type": "code",
      "source": [
        "# Chart - 13 visualization code"
      ],
      "metadata": {
        "id": "EUfxeq9-p1cl"
      },
      "execution_count": null,
      "outputs": []
    },
    {
      "cell_type": "markdown",
      "source": [
        "##### 1. Why did you pick the specific chart?"
      ],
      "metadata": {
        "id": "E6MkPsBcp1cl"
      }
    },
    {
      "cell_type": "markdown",
      "source": [
        "Answer Here."
      ],
      "metadata": {
        "id": "V22bRsFWp1cl"
      }
    },
    {
      "cell_type": "markdown",
      "source": [
        "##### 2. What is/are the insight(s) found from the chart?"
      ],
      "metadata": {
        "id": "2cELzS2fp1cl"
      }
    },
    {
      "cell_type": "markdown",
      "source": [
        "Answer Here"
      ],
      "metadata": {
        "id": "ozQPc2_Ip1cl"
      }
    },
    {
      "cell_type": "markdown",
      "source": [
        "##### 3. Will the gained insights help creating a positive business impact?\n",
        "Are there any insights that lead to negative growth? Justify with specific reason."
      ],
      "metadata": {
        "id": "3MPXvC8up1cl"
      }
    },
    {
      "cell_type": "markdown",
      "source": [
        "Answer Here"
      ],
      "metadata": {
        "id": "GL8l1tdLp1cl"
      }
    },
    {
      "cell_type": "markdown",
      "source": [
        "#### Chart - 14 - Correlation Heatmap"
      ],
      "metadata": {
        "id": "NC_X3p0fY2L0"
      }
    },
    {
      "cell_type": "code",
      "source": [
        "# Correlation Heatmap visualization code"
      ],
      "metadata": {
        "id": "xyC9zolEZNRQ"
      },
      "execution_count": null,
      "outputs": []
    },
    {
      "cell_type": "markdown",
      "source": [
        "##### 1. Why did you pick the specific chart?"
      ],
      "metadata": {
        "id": "UV0SzAkaZNRQ"
      }
    },
    {
      "cell_type": "markdown",
      "source": [
        "Answer Here."
      ],
      "metadata": {
        "id": "DVPuT8LYZNRQ"
      }
    },
    {
      "cell_type": "markdown",
      "source": [
        "##### 2. What is/are the insight(s) found from the chart?"
      ],
      "metadata": {
        "id": "YPEH6qLeZNRQ"
      }
    },
    {
      "cell_type": "markdown",
      "source": [
        "Answer Here"
      ],
      "metadata": {
        "id": "bfSqtnDqZNRR"
      }
    },
    {
      "cell_type": "markdown",
      "source": [
        "#### Chart - 15 - Pair Plot"
      ],
      "metadata": {
        "id": "q29F0dvdveiT"
      }
    },
    {
      "cell_type": "code",
      "source": [
        "# Pair Plot visualization code"
      ],
      "metadata": {
        "id": "o58-TEIhveiU"
      },
      "execution_count": null,
      "outputs": []
    },
    {
      "cell_type": "markdown",
      "source": [
        "##### 1. Why did you pick the specific chart?"
      ],
      "metadata": {
        "id": "EXh0U9oCveiU"
      }
    },
    {
      "cell_type": "markdown",
      "source": [
        "Answer Here."
      ],
      "metadata": {
        "id": "eMmPjTByveiU"
      }
    },
    {
      "cell_type": "markdown",
      "source": [
        "##### 2. What is/are the insight(s) found from the chart?"
      ],
      "metadata": {
        "id": "22aHeOlLveiV"
      }
    },
    {
      "cell_type": "markdown",
      "source": [
        "Answer Here"
      ],
      "metadata": {
        "id": "uPQ8RGwHveiV"
      }
    },
    {
      "cell_type": "markdown",
      "source": [
        "## **5. Solution to Business Objective**"
      ],
      "metadata": {
        "id": "JcMwzZxoAimU"
      }
    },
    {
      "cell_type": "markdown",
      "source": [
        "#### What do you suggest the client to achieve Business Objective ?\n",
        "Explain Briefly.\n",
        "\n",
        "These recommendations will help the company:\n",
        "\n",
        "Control risk,\n",
        "\n",
        "Boost profitability,\n",
        "\n",
        "Retain healthier customers, and\n",
        "\n",
        "Offer fair and competitive insurance products in the market."
      ],
      "metadata": {
        "id": "8G2x9gOozGDZ"
      }
    },
    {
      "cell_type": "markdown",
      "source": [
        "Answer Here."
      ],
      "metadata": {
        "id": "pASKb0qOza21"
      }
    },
    {
      "cell_type": "markdown",
      "source": [
        "# **Conclusion**"
      ],
      "metadata": {
        "id": "gCX9965dhzqZ"
      }
    },
    {
      "cell_type": "markdown",
      "source": [
        "Write the conclusion here.\n",
        "\n",
        "In conclusion, the analysis provided valuable insights into how demographic and lifestyle factors influence insurance costs. Key recommendations include maintaining a focus on age, BMI, and smoking status for risk assessment, considering regional pricing adjustments, and offering wellness incentives. These steps can improve profitability, customer satisfaction, and operational efficiency for Medibuddy's insurance offerings.\n",
        "\n"
      ],
      "metadata": {
        "id": "Fjb1IsQkh3yE"
      }
    },
    {
      "cell_type": "markdown",
      "source": [
        "### ***Hurrah! You have successfully completed your EDA Capstone Project !!!***"
      ],
      "metadata": {
        "id": "gIfDvo9L0UH2"
      }
    },
    {
      "cell_type": "code",
      "source": [],
      "metadata": {
        "id": "dYX880etpL0x"
      },
      "execution_count": null,
      "outputs": []
    },
    {
      "cell_type": "code",
      "source": [],
      "metadata": {
        "id": "-6Vl263upPVI"
      },
      "execution_count": null,
      "outputs": []
    }
  ]
}